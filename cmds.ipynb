{
 "cells": [
  {
   "cell_type": "markdown",
   "metadata": {},
   "source": [
    "# Download from bucket"
   ]
  },
  {
   "cell_type": "markdown",
   "metadata": {},
   "source": [
    "### Download file from bucket"
   ]
  },
  {
   "cell_type": "code",
   "execution_count": 1,
   "metadata": {},
   "outputs": [],
   "source": [
    "from src.utils import get_file\n",
    "get_file(filekey='hc_f811f8d65ff095e950befe31df6ded93d77e141a/user_register_2024-09-30_16:04:53.csv')"
   ]
  },
  {
   "cell_type": "markdown",
   "metadata": {},
   "source": [
    "### Download file keys from table"
   ]
  },
  {
   "cell_type": "code",
   "execution_count": null,
   "metadata": {},
   "outputs": [],
   "source": [
    "from src.utils import get_file\n",
    "from src.settings import Settings\n",
    "import pandas as pd\n",
    "\n",
    "df = pd.read_csv(Settings.ALL_FILES, dtype=str)\n",
    "rows = [range(2,5), 7]\n",
    "for row in rows:\n",
    "    get_file(df.loc[row, 'filekey'])"
   ]
  },
  {
   "cell_type": "markdown",
   "metadata": {},
   "source": [
    "### Download all files"
   ]
  },
  {
   "cell_type": "code",
   "execution_count": null,
   "metadata": {},
   "outputs": [],
   "source": [
    "from src.process_bucket import list_bucket\n",
    "from src.utils import get_file\n",
    "from tqdm import tqdm\n",
    "\n",
    "bucket = list_bucket()\n",
    "for filekey in tqdm(bucket):\n",
    "    get_file(filekey,  destination_folder = '/home/alon/bucket')"
   ]
  },
  {
   "cell_type": "markdown",
   "metadata": {},
   "source": [
    "### Download files..."
   ]
  },
  {
   "cell_type": "code",
   "execution_count": null,
   "metadata": {},
   "outputs": [],
   "source": [
    "from src.process_bucket import list_bucket\n",
    "from src.utils import get_file\n",
    "from tqdm import tqdm\n",
    "\n",
    "bucket = list_bucket()\n",
    "# filekeys = [b for b in bucket if b.startswith('b4f911698dbb35057e4fafded1ec7db6035a870d')]\n",
    "for filekey in tqdm(filekeys):\n",
    "    get_file(filekey)"
   ]
  },
  {
   "cell_type": "markdown",
   "metadata": {},
   "source": [
    "### Hash phone number"
   ]
  },
  {
   "cell_type": "code",
   "execution_count": 1,
   "metadata": {},
   "outputs": [
    {
     "data": {
      "text/plain": [
       "'e8dfe9b832405958622a68c254a59218a75bbf6e'"
      ]
     },
     "execution_count": 1,
     "metadata": {},
     "output_type": "execute_result"
    }
   ],
   "source": [
    "from src.utils import hash_phone_number\n",
    "hash_phone_number('+9720526789173')"
   ]
  },
  {
   "cell_type": "markdown",
   "metadata": {},
   "source": [
    "# Commands"
   ]
  },
  {
   "cell_type": "markdown",
   "metadata": {},
   "source": [
    "### Save a screenshot from an Emulator"
   ]
  },
  {
   "cell_type": "markdown",
   "metadata": {},
   "source": [
    "##### Android - linux"
   ]
  },
  {
   "cell_type": "code",
   "execution_count": null,
   "metadata": {},
   "outputs": [],
   "source": [
    "! adb -s emulator-5554 exec-out screencap -p > 25.png"
   ]
  },
  {
   "cell_type": "markdown",
   "metadata": {},
   "source": [
    "##### iPhone - mac"
   ]
  },
  {
   "cell_type": "code",
   "execution_count": null,
   "metadata": {},
   "outputs": [],
   "source": [
    "! xcrun simctl list devices"
   ]
  },
  {
   "cell_type": "code",
   "execution_count": null,
   "metadata": {},
   "outputs": [],
   "source": [
    "! xcrun simctl io 838AA34F-7999-43FA-A67E-A3E2119055E1 screenshot 7.png"
   ]
  },
  {
   "cell_type": "markdown",
   "metadata": {},
   "source": [
    "### Open bundle folder"
   ]
  },
  {
   "cell_type": "code",
   "execution_count": 1,
   "metadata": {},
   "outputs": [],
   "source": [
    "! xdg-open /home/alon/dev/app/voca_fr/build/app/outputs/bundle/release/"
   ]
  },
  {
   "cell_type": "markdown",
   "metadata": {},
   "source": [
    "# Queries"
   ]
  },
  {
   "cell_type": "markdown",
   "metadata": {},
   "source": [
    "### Files without session"
   ]
  },
  {
   "cell_type": "code",
   "execution_count": 1,
   "metadata": {},
   "outputs": [
    {
     "data": {
      "text/html": [
       "<div>\n",
       "<style scoped>\n",
       "    .dataframe tbody tr th:only-of-type {\n",
       "        vertical-align: middle;\n",
       "    }\n",
       "\n",
       "    .dataframe tbody tr th {\n",
       "        vertical-align: top;\n",
       "    }\n",
       "\n",
       "    .dataframe thead th {\n",
       "        text-align: right;\n",
       "    }\n",
       "</style>\n",
       "<table border=\"1\" class=\"dataframe\">\n",
       "  <thead>\n",
       "    <tr style=\"text-align: right;\">\n",
       "      <th></th>\n",
       "      <th>file_key</th>\n",
       "      <th>username</th>\n",
       "      <th>entity</th>\n",
       "      <th>session</th>\n",
       "      <th>sampler_username</th>\n",
       "      <th>pattern</th>\n",
       "      <th>exercise</th>\n",
       "      <th>timing</th>\n",
       "      <th>onmed</th>\n",
       "      <th>onoff</th>\n",
       "      <th>language</th>\n",
       "      <th>date</th>\n",
       "      <th>time</th>\n",
       "      <th>datetime</th>\n",
       "      <th>filesize</th>\n",
       "    </tr>\n",
       "  </thead>\n",
       "  <tbody>\n",
       "    <tr>\n",
       "      <th>5443</th>\n",
       "      <td>hc_24b3c5819103f797f612714f143eccff34974b0b/us...</td>\n",
       "      <td>hc_24b3c5819103f797f612714f143eccff34974b0b</td>\n",
       "      <td>HC</td>\n",
       "      <td>NaN</td>\n",
       "      <td>s_sampler</td>\n",
       "      <td>REGISTRATION</td>\n",
       "      <td>registration</td>\n",
       "      <td>NaN</td>\n",
       "      <td>NaN</td>\n",
       "      <td>NaN</td>\n",
       "      <td>NaN</td>\n",
       "      <td>2024-04-03</td>\n",
       "      <td>09:44:57</td>\n",
       "      <td>2024-04-03_09:44:57</td>\n",
       "      <td>NaN</td>\n",
       "    </tr>\n",
       "    <tr>\n",
       "      <th>5444</th>\n",
       "      <td>hc_24b3c5819103f797f612714f143eccff34974b0b/us...</td>\n",
       "      <td>hc_24b3c5819103f797f612714f143eccff34974b0b</td>\n",
       "      <td>HC</td>\n",
       "      <td>NaN</td>\n",
       "      <td>s_sampler</td>\n",
       "      <td>REGISTRATION</td>\n",
       "      <td>registration</td>\n",
       "      <td>NaN</td>\n",
       "      <td>NaN</td>\n",
       "      <td>NaN</td>\n",
       "      <td>NaN</td>\n",
       "      <td>2024-04-12</td>\n",
       "      <td>13:37:06</td>\n",
       "      <td>2024-04-12_13:37:06</td>\n",
       "      <td>NaN</td>\n",
       "    </tr>\n",
       "    <tr>\n",
       "      <th>6852</th>\n",
       "      <td>hc_a7435e3b8bdc5001d42b6a32f487fbe996ab8182/us...</td>\n",
       "      <td>hc_a7435e3b8bdc5001d42b6a32f487fbe996ab8182</td>\n",
       "      <td>AX</td>\n",
       "      <td>NaN</td>\n",
       "      <td>s_ruthros</td>\n",
       "      <td>REGISTRATION</td>\n",
       "      <td>registration</td>\n",
       "      <td>NaN</td>\n",
       "      <td>NaN</td>\n",
       "      <td>NaN</td>\n",
       "      <td>NaN</td>\n",
       "      <td>2024-07-19</td>\n",
       "      <td>10:21:25</td>\n",
       "      <td>2024-07-19_10:21:25</td>\n",
       "      <td>NaN</td>\n",
       "    </tr>\n",
       "    <tr>\n",
       "      <th>6926</th>\n",
       "      <td>hc_b224ff29e43980efa73b058bbbe12dab18831091/us...</td>\n",
       "      <td>hc_b224ff29e43980efa73b058bbbe12dab18831091</td>\n",
       "      <td>AX</td>\n",
       "      <td>NaN</td>\n",
       "      <td>s_ellahal</td>\n",
       "      <td>REGISTRATION</td>\n",
       "      <td>registration</td>\n",
       "      <td>NaN</td>\n",
       "      <td>NaN</td>\n",
       "      <td>NaN</td>\n",
       "      <td>NaN</td>\n",
       "      <td>2024-07-19</td>\n",
       "      <td>10:21:09</td>\n",
       "      <td>2024-07-19_10:21:09</td>\n",
       "      <td>NaN</td>\n",
       "    </tr>\n",
       "    <tr>\n",
       "      <th>6951</th>\n",
       "      <td>hc_be85c53a99ca8d365adbe3c11746416066277aab/us...</td>\n",
       "      <td>hc_be85c53a99ca8d365adbe3c11746416066277aab</td>\n",
       "      <td>HC</td>\n",
       "      <td>NaN</td>\n",
       "      <td>s_nitzaramon</td>\n",
       "      <td>REGISTRATION</td>\n",
       "      <td>registration</td>\n",
       "      <td>NaN</td>\n",
       "      <td>NaN</td>\n",
       "      <td>NaN</td>\n",
       "      <td>NaN</td>\n",
       "      <td>2024-07-21</td>\n",
       "      <td>12:09:50</td>\n",
       "      <td>2024-07-21_12:09:50</td>\n",
       "      <td>NaN</td>\n",
       "    </tr>\n",
       "    <tr>\n",
       "      <th>7543</th>\n",
       "      <td>hc_fe62c077ff7339912a76f310ff3f34e6cc54a1e0/us...</td>\n",
       "      <td>hc_fe62c077ff7339912a76f310ff3f34e6cc54a1e0</td>\n",
       "      <td>AX</td>\n",
       "      <td>NaN</td>\n",
       "      <td>s_galidvir</td>\n",
       "      <td>REGISTRATION</td>\n",
       "      <td>registration</td>\n",
       "      <td>NaN</td>\n",
       "      <td>NaN</td>\n",
       "      <td>NaN</td>\n",
       "      <td>NaN</td>\n",
       "      <td>2024-07-19</td>\n",
       "      <td>10:21:05</td>\n",
       "      <td>2024-07-19_10:21:05</td>\n",
       "      <td>NaN</td>\n",
       "    </tr>\n",
       "  </tbody>\n",
       "</table>\n",
       "</div>"
      ],
      "text/plain": [
       "                                               file_key  \\\n",
       "5443  hc_24b3c5819103f797f612714f143eccff34974b0b/us...   \n",
       "5444  hc_24b3c5819103f797f612714f143eccff34974b0b/us...   \n",
       "6852  hc_a7435e3b8bdc5001d42b6a32f487fbe996ab8182/us...   \n",
       "6926  hc_b224ff29e43980efa73b058bbbe12dab18831091/us...   \n",
       "6951  hc_be85c53a99ca8d365adbe3c11746416066277aab/us...   \n",
       "7543  hc_fe62c077ff7339912a76f310ff3f34e6cc54a1e0/us...   \n",
       "\n",
       "                                         username entity session  \\\n",
       "5443  hc_24b3c5819103f797f612714f143eccff34974b0b     HC     NaN   \n",
       "5444  hc_24b3c5819103f797f612714f143eccff34974b0b     HC     NaN   \n",
       "6852  hc_a7435e3b8bdc5001d42b6a32f487fbe996ab8182     AX     NaN   \n",
       "6926  hc_b224ff29e43980efa73b058bbbe12dab18831091     AX     NaN   \n",
       "6951  hc_be85c53a99ca8d365adbe3c11746416066277aab     HC     NaN   \n",
       "7543  hc_fe62c077ff7339912a76f310ff3f34e6cc54a1e0     AX     NaN   \n",
       "\n",
       "     sampler_username       pattern      exercise timing onmed onoff language  \\\n",
       "5443        s_sampler  REGISTRATION  registration    NaN   NaN   NaN      NaN   \n",
       "5444        s_sampler  REGISTRATION  registration    NaN   NaN   NaN      NaN   \n",
       "6852        s_ruthros  REGISTRATION  registration    NaN   NaN   NaN      NaN   \n",
       "6926        s_ellahal  REGISTRATION  registration    NaN   NaN   NaN      NaN   \n",
       "6951     s_nitzaramon  REGISTRATION  registration    NaN   NaN   NaN      NaN   \n",
       "7543       s_galidvir  REGISTRATION  registration    NaN   NaN   NaN      NaN   \n",
       "\n",
       "            date      time             datetime filesize  \n",
       "5443  2024-04-03  09:44:57  2024-04-03_09:44:57      NaN  \n",
       "5444  2024-04-12  13:37:06  2024-04-12_13:37:06      NaN  \n",
       "6852  2024-07-19  10:21:25  2024-07-19_10:21:25      NaN  \n",
       "6926  2024-07-19  10:21:09  2024-07-19_10:21:09      NaN  \n",
       "6951  2024-07-21  12:09:50  2024-07-21_12:09:50      NaN  \n",
       "7543  2024-07-19  10:21:05  2024-07-19_10:21:05      NaN  "
      ]
     },
     "execution_count": 1,
     "metadata": {},
     "output_type": "execute_result"
    }
   ],
   "source": [
    "import pandas as pd\n",
    "from src.settings import Settings\n",
    "\n",
    "df = pd.read_csv(Settings.ALL_FILES, dtype=str)\n",
    "df[df.session.isna()]"
   ]
  },
  {
   "cell_type": "markdown",
   "metadata": {},
   "source": [
    "### User's tree"
   ]
  },
  {
   "cell_type": "code",
   "execution_count": 1,
   "metadata": {},
   "outputs": [
    {
     "name": "stdout",
     "output_type": "stream",
     "text": [
      "\n",
      "Listing files for user: hc_c4ff40c66deb90a825fd7c448da1dec00b3d32ac from AWS bucket...\n"
     ]
    },
    {
     "name": "stderr",
     "output_type": "stream",
     "text": [
      "100%|██████████| 90/90 [00:00<?, ?it/s]\n"
     ]
    },
    {
     "data": {
      "text/html": [
       "<pre style=\"white-space:pre;overflow-x:auto;line-height:normal;font-family:Menlo,'DejaVu Sans Mono',consolas,'Courier New',monospace\">Files and Folders for hc_c4ff40c66deb90a825fd7c448da1dec00b3d32ac\n",
       "└── hc_c4ff40c66deb90a825fd7c448da1dec00b3d32ac\n",
       "    ├── 95b78ecf-7962-4060-9469-16a852564945\n",
       "    │   ├── hc_c4ff40c66deb90a825fd7c448da1dec00b3d32ac_he_2024-12-16_11:23:39_healthy_mpt1_notOnMed_unknown\n",
       "    │   ├── hc_c4ff40c66deb90a825fd7c448da1dec00b3d32ac_he_2024-12-16_11:23:51_healthy_mpt2_notOnMed_unknown\n",
       "    │   ├── hc_c4ff40c66deb90a825fd7c448da1dec00b3d32ac_he_2024-12-16_11:24:05_healthy_mpt3_notOnMed_unknown\n",
       "    │   ├── hc_c4ff40c66deb90a825fd7c448da1dec00b3d32ac_he_2024-12-16_11:24:15_healthy_iii1_notOnMed_unknown\n",
       "    │   ├── hc_c4ff40c66deb90a825fd7c448da1dec00b3d32ac_he_2024-12-16_11:24:25_healthy_iii2_notOnMed_unknown\n",
       "    │   ├── hc_c4ff40c66deb90a825fd7c448da1dec00b3d32ac_he_2024-12-16_11:24:40_healthy_uuu1_notOnMed_unknown\n",
       "    │   ├── hc_c4ff40c66deb90a825fd7c448da1dec00b3d32ac_he_2024-12-16_11:24:49_healthy_uuu2_notOnMed_unknown\n",
       "    │   ├── hc_c4ff40c66deb90a825fd7c448da1dec00b3d32ac_he_2024-12-16_11:25:08_healthy_1210_notOnMed_unknown\n",
       "    │   ├── hc_c4ff40c66deb90a825fd7c448da1dec00b3d32ac_he_2024-12-16_11:25:31_healthy_pataka_notOnMed_unknown\n",
       "    │   ├── hc_c4ff40c66deb90a825fd7c448da1dec00b3d32ac_he_2024-12-16_11:25:42_healthy_dana_notOnMed_unknown\n",
       "    │   ├── hc_c4ff40c66deb90a825fd7c448da1dec00b3d32ac_he_2024-12-16_11:25:54_healthy_bama_notOnMed_unknown\n",
       "    │   ├── hc_c4ff40c66deb90a825fd7c448da1dec00b3d32ac_he_2024-12-16_11:26:06_healthy_papa_notOnMed_unknown\n",
       "    │   ├── hc_c4ff40c66deb90a825fd7c448da1dec00b3d32ac_he_2024-12-16_11:26:19_healthy_kala_notOnMed_unknown\n",
       "    │   ├── hc_c4ff40c66deb90a825fd7c448da1dec00b3d32ac_he_2024-12-16_11:26:38_healthy_sen1_notOnMed_unknown\n",
       "    │   ├── hc_c4ff40c66deb90a825fd7c448da1dec00b3d32ac_he_2024-12-16_11:27:33_healthy_sen2_notOnMed_unknown\n",
       "    │   ├── hc_c4ff40c66deb90a825fd7c448da1dec00b3d32ac_he_2024-12-16_11:27:46_healthy_sen3_notOnMed_unknown\n",
       "    │   ├── hc_c4ff40c66deb90a825fd7c448da1dec00b3d32ac_he_2024-12-16_11:27:58_healthy_sen4_notOnMed_unknown\n",
       "    │   ├── hc_c4ff40c66deb90a825fd7c448da1dec00b3d32ac_he_2024-12-16_11:28:12_healthy_glissandoup_notOnMed_unknown\n",
       "    │   ├── hc_c4ff40c66deb90a825fd7c448da1dec00b3d32ac_he_2024-12-16_11:28:23_healthy_glissandodn_notOnMed_unknown\n",
       "    │   ├── hc_c4ff40c66deb90a825fd7c448da1dec00b3d32ac_he_2024-12-16_11:29:07_healthy_reading1_notOnMed_unknown\n",
       "    │   ├── hc_c4ff40c66deb90a825fd7c448da1dec00b3d32ac_he_2024-12-16_11:29:53_healthy_reading2_notOnMed_unknown\n",
       "    │   ├── hc_c4ff40c66deb90a825fd7c448da1dec00b3d32ac_he_2024-12-16_11:30:44_healthy_question_notOnMed_unknown\n",
       "    │   └── hc_c4ff40c66deb90a825fd7c448da1dec00b3d32ac_he_2024-12-16_11:31:32_healthy_feedback_notOnMed_unknown\n",
       "    ├── c504b711-58f5-44ac-a377-35ed2096fb14\n",
       "    │   ├── hc_c4ff40c66deb90a825fd7c448da1dec00b3d32ac_he_2024-12-16_11:05:35_healthy_mpt1_notOnMed_unknown\n",
       "    │   ├── hc_c4ff40c66deb90a825fd7c448da1dec00b3d32ac_he_2024-12-16_11:05:50_healthy_mpt2_notOnMed_unknown\n",
       "    │   ├── hc_c4ff40c66deb90a825fd7c448da1dec00b3d32ac_he_2024-12-16_11:06:00_healthy_mpt3_notOnMed_unknown\n",
       "    │   ├── hc_c4ff40c66deb90a825fd7c448da1dec00b3d32ac_he_2024-12-16_11:06:15_healthy_iii1_notOnMed_unknown\n",
       "    │   ├── hc_c4ff40c66deb90a825fd7c448da1dec00b3d32ac_he_2024-12-16_11:06:20_healthy_iii2_notOnMed_unknown\n",
       "    │   ├── hc_c4ff40c66deb90a825fd7c448da1dec00b3d32ac_he_2024-12-16_11:06:26_healthy_uuu1_notOnMed_unknown\n",
       "    │   ├── hc_c4ff40c66deb90a825fd7c448da1dec00b3d32ac_he_2024-12-16_11:06:33_healthy_uuu2_notOnMed_unknown\n",
       "    │   ├── hc_c4ff40c66deb90a825fd7c448da1dec00b3d32ac_he_2024-12-16_11:06:48_healthy_1210_notOnMed_unknown\n",
       "    │   ├── hc_c4ff40c66deb90a825fd7c448da1dec00b3d32ac_he_2024-12-16_11:07:07_healthy_pataka_notOnMed_unknown\n",
       "    │   ├── hc_c4ff40c66deb90a825fd7c448da1dec00b3d32ac_he_2024-12-16_11:07:17_healthy_dana_notOnMed_unknown\n",
       "    │   ├── hc_c4ff40c66deb90a825fd7c448da1dec00b3d32ac_he_2024-12-16_11:07:26_healthy_bama_notOnMed_unknown\n",
       "    │   ├── hc_c4ff40c66deb90a825fd7c448da1dec00b3d32ac_he_2024-12-16_11:07:37_healthy_papa_notOnMed_unknown\n",
       "    │   ├── hc_c4ff40c66deb90a825fd7c448da1dec00b3d32ac_he_2024-12-16_11:07:46_healthy_kala_notOnMed_unknown\n",
       "    │   ├── hc_c4ff40c66deb90a825fd7c448da1dec00b3d32ac_he_2024-12-16_11:08:03_healthy_sen1_notOnMed_unknown\n",
       "    │   ├── hc_c4ff40c66deb90a825fd7c448da1dec00b3d32ac_he_2024-12-16_11:08:26_healthy_sen2_notOnMed_unknown\n",
       "    │   ├── hc_c4ff40c66deb90a825fd7c448da1dec00b3d32ac_he_2024-12-16_11:08:49_healthy_sen3_notOnMed_unknown\n",
       "    │   ├── hc_c4ff40c66deb90a825fd7c448da1dec00b3d32ac_he_2024-12-16_11:09:07_healthy_sen4_notOnMed_unknown\n",
       "    │   ├── hc_c4ff40c66deb90a825fd7c448da1dec00b3d32ac_he_2024-12-16_11:10:58_healthy_glissandoup_notOnMed_unknown\n",
       "    │   ├── hc_c4ff40c66deb90a825fd7c448da1dec00b3d32ac_he_2024-12-16_11:11:12_healthy_glissandodn_notOnMed_unknown\n",
       "    │   ├── hc_c4ff40c66deb90a825fd7c448da1dec00b3d32ac_he_2024-12-16_11:11:50_healthy_reading1_notOnMed_unknown\n",
       "    │   ├── hc_c4ff40c66deb90a825fd7c448da1dec00b3d32ac_he_2024-12-16_11:12:35_healthy_reading2_notOnMed_unknown\n",
       "    │   ├── hc_c4ff40c66deb90a825fd7c448da1dec00b3d32ac_he_2024-12-16_11:13:26_healthy_question_notOnMed_unknown\n",
       "    │   └── hc_c4ff40c66deb90a825fd7c448da1dec00b3d32ac_he_2024-12-16_11:14:07_healthy_feedback_notOnMed_unknown\n",
       "    ├── e7055282-1f56-49d7-abaf-4c6f9382ada2\n",
       "    │   ├── hc_c4ff40c66deb90a825fd7c448da1dec00b3d32ac_he_2024-12-16_11:15:16_healthy_mpt1_notOnMed_unknown\n",
       "    │   ├── hc_c4ff40c66deb90a825fd7c448da1dec00b3d32ac_he_2024-12-16_11:15:30_healthy_mpt2_notOnMed_unknown\n",
       "    │   ├── hc_c4ff40c66deb90a825fd7c448da1dec00b3d32ac_he_2024-12-16_11:15:43_healthy_mpt3_notOnMed_unknown\n",
       "    │   ├── hc_c4ff40c66deb90a825fd7c448da1dec00b3d32ac_he_2024-12-16_11:15:58_healthy_iii1_notOnMed_unknown\n",
       "    │   ├── hc_c4ff40c66deb90a825fd7c448da1dec00b3d32ac_he_2024-12-16_11:16:08_healthy_iii2_notOnMed_unknown\n",
       "    │   ├── hc_c4ff40c66deb90a825fd7c448da1dec00b3d32ac_he_2024-12-16_11:16:32_healthy_uuu1_notOnMed_unknown\n",
       "    │   ├── hc_c4ff40c66deb90a825fd7c448da1dec00b3d32ac_he_2024-12-16_11:16:39_healthy_uuu2_notOnMed_unknown\n",
       "    │   ├── hc_c4ff40c66deb90a825fd7c448da1dec00b3d32ac_he_2024-12-16_11:17:09_healthy_1210_notOnMed_unknown\n",
       "    │   ├── hc_c4ff40c66deb90a825fd7c448da1dec00b3d32ac_he_2024-12-16_11:17:26_healthy_pataka_notOnMed_unknown\n",
       "    │   ├── hc_c4ff40c66deb90a825fd7c448da1dec00b3d32ac_he_2024-12-16_11:17:40_healthy_dana_notOnMed_unknown\n",
       "    │   ├── hc_c4ff40c66deb90a825fd7c448da1dec00b3d32ac_he_2024-12-16_11:17:55_healthy_bama_notOnMed_unknown\n",
       "    │   ├── hc_c4ff40c66deb90a825fd7c448da1dec00b3d32ac_he_2024-12-16_11:18:12_healthy_papa_notOnMed_unknown\n",
       "    │   ├── hc_c4ff40c66deb90a825fd7c448da1dec00b3d32ac_he_2024-12-16_11:18:25_healthy_kala_notOnMed_unknown\n",
       "    │   ├── hc_c4ff40c66deb90a825fd7c448da1dec00b3d32ac_he_2024-12-16_11:18:41_healthy_sen1_notOnMed_unknown\n",
       "    │   ├── hc_c4ff40c66deb90a825fd7c448da1dec00b3d32ac_he_2024-12-16_11:18:54_healthy_sen2_notOnMed_unknown\n",
       "    │   ├── hc_c4ff40c66deb90a825fd7c448da1dec00b3d32ac_he_2024-12-16_11:19:07_healthy_sen3_notOnMed_unknown\n",
       "    │   ├── hc_c4ff40c66deb90a825fd7c448da1dec00b3d32ac_he_2024-12-16_11:19:20_healthy_sen4_notOnMed_unknown\n",
       "    │   ├── hc_c4ff40c66deb90a825fd7c448da1dec00b3d32ac_he_2024-12-16_11:19:36_healthy_glissandoup_notOnMed_unknown\n",
       "    │   ├── hc_c4ff40c66deb90a825fd7c448da1dec00b3d32ac_he_2024-12-16_11:19:50_healthy_glissandodn_notOnMed_unknown\n",
       "    │   ├── hc_c4ff40c66deb90a825fd7c448da1dec00b3d32ac_he_2024-12-16_11:20:24_healthy_reading1_notOnMed_unknown\n",
       "    │   ├── hc_c4ff40c66deb90a825fd7c448da1dec00b3d32ac_he_2024-12-16_11:21:00_healthy_reading2_notOnMed_unknown\n",
       "    │   ├── hc_c4ff40c66deb90a825fd7c448da1dec00b3d32ac_he_2024-12-16_11:21:44_healthy_question_notOnMed_unknown\n",
       "    │   └── hc_c4ff40c66deb90a825fd7c448da1dec00b3d32ac_he_2024-12-16_11:22:28_healthy_feedback_notOnMed_unknown\n",
       "    ├── efd0d4a5-e44d-4caf-a0b2-71a0ae8f27d5\n",
       "    │   ├── hc_c4ff40c66deb90a825fd7c448da1dec00b3d32ac_he_2024-12-16_10:53:41_healthy_mpt1_notOnMed_unknown\n",
       "    │   ├── hc_c4ff40c66deb90a825fd7c448da1dec00b3d32ac_he_2024-12-16_10:53:56_healthy_mpt2_notOnMed_unknown\n",
       "    │   ├── hc_c4ff40c66deb90a825fd7c448da1dec00b3d32ac_he_2024-12-16_10:54:14_healthy_mpt3_notOnMed_unknown\n",
       "    │   ├── hc_c4ff40c66deb90a825fd7c448da1dec00b3d32ac_he_2024-12-16_10:54:32_healthy_iii1_notOnMed_unknown\n",
       "    │   ├── hc_c4ff40c66deb90a825fd7c448da1dec00b3d32ac_he_2024-12-16_10:54:41_healthy_iii2_notOnMed_unknown\n",
       "    │   ├── hc_c4ff40c66deb90a825fd7c448da1dec00b3d32ac_he_2024-12-16_10:54:50_healthy_uuu1_notOnMed_unknown\n",
       "    │   ├── hc_c4ff40c66deb90a825fd7c448da1dec00b3d32ac_he_2024-12-16_10:54:57_healthy_uuu2_notOnMed_unknown\n",
       "    │   ├── hc_c4ff40c66deb90a825fd7c448da1dec00b3d32ac_he_2024-12-16_10:55:19_healthy_1210_notOnMed_unknown\n",
       "    │   ├── hc_c4ff40c66deb90a825fd7c448da1dec00b3d32ac_he_2024-12-16_10:55:48_healthy_pataka_notOnMed_unknown\n",
       "    │   ├── hc_c4ff40c66deb90a825fd7c448da1dec00b3d32ac_he_2024-12-16_10:56:09_healthy_dana_notOnMed_unknown\n",
       "    │   ├── hc_c4ff40c66deb90a825fd7c448da1dec00b3d32ac_he_2024-12-16_10:56:28_healthy_bama_notOnMed_unknown\n",
       "    │   ├── hc_c4ff40c66deb90a825fd7c448da1dec00b3d32ac_he_2024-12-16_10:56:45_healthy_papa_notOnMed_unknown\n",
       "    │   ├── hc_c4ff40c66deb90a825fd7c448da1dec00b3d32ac_he_2024-12-16_10:57:16_healthy_kala_notOnMed_unknown\n",
       "    │   ├── hc_c4ff40c66deb90a825fd7c448da1dec00b3d32ac_he_2024-12-16_10:57:27_healthy_sen1_notOnMed_unknown\n",
       "    │   ├── hc_c4ff40c66deb90a825fd7c448da1dec00b3d32ac_he_2024-12-16_10:57:39_healthy_sen2_notOnMed_unknown\n",
       "    │   ├── hc_c4ff40c66deb90a825fd7c448da1dec00b3d32ac_he_2024-12-16_10:57:50_healthy_sen3_notOnMed_unknown\n",
       "    │   ├── hc_c4ff40c66deb90a825fd7c448da1dec00b3d32ac_he_2024-12-16_10:58:01_healthy_sen4_notOnMed_unknown\n",
       "    │   └── hc_c4ff40c66deb90a825fd7c448da1dec00b3d32ac_he_2024-12-16_10:58:24_healthy_glissandoup_notOnMed_unknown\n",
       "    ├── user_register_2024-12-16_10:53:00.csv\n",
       "    ├── user_register_2024-12-16_11:14:53.csv\n",
       "    └── user_register_2024-12-16_11:23:11.csv\n",
       "</pre>\n"
      ],
      "text/plain": [
       "Files and Folders for hc_c4ff40c66deb90a825fd7c448da1dec00b3d32ac\n",
       "└── hc_c4ff40c66deb90a825fd7c448da1dec00b3d32ac\n",
       "    ├── 95b78ecf-7962-4060-9469-16a852564945\n",
       "    │   ├── hc_c4ff40c66deb90a825fd7c448da1dec00b3d32ac_he_2024-12-16_11:23:39_healthy_mpt1_notOnMed_unknown\n",
       "    │   ├── hc_c4ff40c66deb90a825fd7c448da1dec00b3d32ac_he_2024-12-16_11:23:51_healthy_mpt2_notOnMed_unknown\n",
       "    │   ├── hc_c4ff40c66deb90a825fd7c448da1dec00b3d32ac_he_2024-12-16_11:24:05_healthy_mpt3_notOnMed_unknown\n",
       "    │   ├── hc_c4ff40c66deb90a825fd7c448da1dec00b3d32ac_he_2024-12-16_11:24:15_healthy_iii1_notOnMed_unknown\n",
       "    │   ├── hc_c4ff40c66deb90a825fd7c448da1dec00b3d32ac_he_2024-12-16_11:24:25_healthy_iii2_notOnMed_unknown\n",
       "    │   ├── hc_c4ff40c66deb90a825fd7c448da1dec00b3d32ac_he_2024-12-16_11:24:40_healthy_uuu1_notOnMed_unknown\n",
       "    │   ├── hc_c4ff40c66deb90a825fd7c448da1dec00b3d32ac_he_2024-12-16_11:24:49_healthy_uuu2_notOnMed_unknown\n",
       "    │   ├── hc_c4ff40c66deb90a825fd7c448da1dec00b3d32ac_he_2024-12-16_11:25:08_healthy_1210_notOnMed_unknown\n",
       "    │   ├── hc_c4ff40c66deb90a825fd7c448da1dec00b3d32ac_he_2024-12-16_11:25:31_healthy_pataka_notOnMed_unknown\n",
       "    │   ├── hc_c4ff40c66deb90a825fd7c448da1dec00b3d32ac_he_2024-12-16_11:25:42_healthy_dana_notOnMed_unknown\n",
       "    │   ├── hc_c4ff40c66deb90a825fd7c448da1dec00b3d32ac_he_2024-12-16_11:25:54_healthy_bama_notOnMed_unknown\n",
       "    │   ├── hc_c4ff40c66deb90a825fd7c448da1dec00b3d32ac_he_2024-12-16_11:26:06_healthy_papa_notOnMed_unknown\n",
       "    │   ├── hc_c4ff40c66deb90a825fd7c448da1dec00b3d32ac_he_2024-12-16_11:26:19_healthy_kala_notOnMed_unknown\n",
       "    │   ├── hc_c4ff40c66deb90a825fd7c448da1dec00b3d32ac_he_2024-12-16_11:26:38_healthy_sen1_notOnMed_unknown\n",
       "    │   ├── hc_c4ff40c66deb90a825fd7c448da1dec00b3d32ac_he_2024-12-16_11:27:33_healthy_sen2_notOnMed_unknown\n",
       "    │   ├── hc_c4ff40c66deb90a825fd7c448da1dec00b3d32ac_he_2024-12-16_11:27:46_healthy_sen3_notOnMed_unknown\n",
       "    │   ├── hc_c4ff40c66deb90a825fd7c448da1dec00b3d32ac_he_2024-12-16_11:27:58_healthy_sen4_notOnMed_unknown\n",
       "    │   ├── hc_c4ff40c66deb90a825fd7c448da1dec00b3d32ac_he_2024-12-16_11:28:12_healthy_glissandoup_notOnMed_unknown\n",
       "    │   ├── hc_c4ff40c66deb90a825fd7c448da1dec00b3d32ac_he_2024-12-16_11:28:23_healthy_glissandodn_notOnMed_unknown\n",
       "    │   ├── hc_c4ff40c66deb90a825fd7c448da1dec00b3d32ac_he_2024-12-16_11:29:07_healthy_reading1_notOnMed_unknown\n",
       "    │   ├── hc_c4ff40c66deb90a825fd7c448da1dec00b3d32ac_he_2024-12-16_11:29:53_healthy_reading2_notOnMed_unknown\n",
       "    │   ├── hc_c4ff40c66deb90a825fd7c448da1dec00b3d32ac_he_2024-12-16_11:30:44_healthy_question_notOnMed_unknown\n",
       "    │   └── hc_c4ff40c66deb90a825fd7c448da1dec00b3d32ac_he_2024-12-16_11:31:32_healthy_feedback_notOnMed_unknown\n",
       "    ├── c504b711-58f5-44ac-a377-35ed2096fb14\n",
       "    │   ├── hc_c4ff40c66deb90a825fd7c448da1dec00b3d32ac_he_2024-12-16_11:05:35_healthy_mpt1_notOnMed_unknown\n",
       "    │   ├── hc_c4ff40c66deb90a825fd7c448da1dec00b3d32ac_he_2024-12-16_11:05:50_healthy_mpt2_notOnMed_unknown\n",
       "    │   ├── hc_c4ff40c66deb90a825fd7c448da1dec00b3d32ac_he_2024-12-16_11:06:00_healthy_mpt3_notOnMed_unknown\n",
       "    │   ├── hc_c4ff40c66deb90a825fd7c448da1dec00b3d32ac_he_2024-12-16_11:06:15_healthy_iii1_notOnMed_unknown\n",
       "    │   ├── hc_c4ff40c66deb90a825fd7c448da1dec00b3d32ac_he_2024-12-16_11:06:20_healthy_iii2_notOnMed_unknown\n",
       "    │   ├── hc_c4ff40c66deb90a825fd7c448da1dec00b3d32ac_he_2024-12-16_11:06:26_healthy_uuu1_notOnMed_unknown\n",
       "    │   ├── hc_c4ff40c66deb90a825fd7c448da1dec00b3d32ac_he_2024-12-16_11:06:33_healthy_uuu2_notOnMed_unknown\n",
       "    │   ├── hc_c4ff40c66deb90a825fd7c448da1dec00b3d32ac_he_2024-12-16_11:06:48_healthy_1210_notOnMed_unknown\n",
       "    │   ├── hc_c4ff40c66deb90a825fd7c448da1dec00b3d32ac_he_2024-12-16_11:07:07_healthy_pataka_notOnMed_unknown\n",
       "    │   ├── hc_c4ff40c66deb90a825fd7c448da1dec00b3d32ac_he_2024-12-16_11:07:17_healthy_dana_notOnMed_unknown\n",
       "    │   ├── hc_c4ff40c66deb90a825fd7c448da1dec00b3d32ac_he_2024-12-16_11:07:26_healthy_bama_notOnMed_unknown\n",
       "    │   ├── hc_c4ff40c66deb90a825fd7c448da1dec00b3d32ac_he_2024-12-16_11:07:37_healthy_papa_notOnMed_unknown\n",
       "    │   ├── hc_c4ff40c66deb90a825fd7c448da1dec00b3d32ac_he_2024-12-16_11:07:46_healthy_kala_notOnMed_unknown\n",
       "    │   ├── hc_c4ff40c66deb90a825fd7c448da1dec00b3d32ac_he_2024-12-16_11:08:03_healthy_sen1_notOnMed_unknown\n",
       "    │   ├── hc_c4ff40c66deb90a825fd7c448da1dec00b3d32ac_he_2024-12-16_11:08:26_healthy_sen2_notOnMed_unknown\n",
       "    │   ├── hc_c4ff40c66deb90a825fd7c448da1dec00b3d32ac_he_2024-12-16_11:08:49_healthy_sen3_notOnMed_unknown\n",
       "    │   ├── hc_c4ff40c66deb90a825fd7c448da1dec00b3d32ac_he_2024-12-16_11:09:07_healthy_sen4_notOnMed_unknown\n",
       "    │   ├── hc_c4ff40c66deb90a825fd7c448da1dec00b3d32ac_he_2024-12-16_11:10:58_healthy_glissandoup_notOnMed_unknown\n",
       "    │   ├── hc_c4ff40c66deb90a825fd7c448da1dec00b3d32ac_he_2024-12-16_11:11:12_healthy_glissandodn_notOnMed_unknown\n",
       "    │   ├── hc_c4ff40c66deb90a825fd7c448da1dec00b3d32ac_he_2024-12-16_11:11:50_healthy_reading1_notOnMed_unknown\n",
       "    │   ├── hc_c4ff40c66deb90a825fd7c448da1dec00b3d32ac_he_2024-12-16_11:12:35_healthy_reading2_notOnMed_unknown\n",
       "    │   ├── hc_c4ff40c66deb90a825fd7c448da1dec00b3d32ac_he_2024-12-16_11:13:26_healthy_question_notOnMed_unknown\n",
       "    │   └── hc_c4ff40c66deb90a825fd7c448da1dec00b3d32ac_he_2024-12-16_11:14:07_healthy_feedback_notOnMed_unknown\n",
       "    ├── e7055282-1f56-49d7-abaf-4c6f9382ada2\n",
       "    │   ├── hc_c4ff40c66deb90a825fd7c448da1dec00b3d32ac_he_2024-12-16_11:15:16_healthy_mpt1_notOnMed_unknown\n",
       "    │   ├── hc_c4ff40c66deb90a825fd7c448da1dec00b3d32ac_he_2024-12-16_11:15:30_healthy_mpt2_notOnMed_unknown\n",
       "    │   ├── hc_c4ff40c66deb90a825fd7c448da1dec00b3d32ac_he_2024-12-16_11:15:43_healthy_mpt3_notOnMed_unknown\n",
       "    │   ├── hc_c4ff40c66deb90a825fd7c448da1dec00b3d32ac_he_2024-12-16_11:15:58_healthy_iii1_notOnMed_unknown\n",
       "    │   ├── hc_c4ff40c66deb90a825fd7c448da1dec00b3d32ac_he_2024-12-16_11:16:08_healthy_iii2_notOnMed_unknown\n",
       "    │   ├── hc_c4ff40c66deb90a825fd7c448da1dec00b3d32ac_he_2024-12-16_11:16:32_healthy_uuu1_notOnMed_unknown\n",
       "    │   ├── hc_c4ff40c66deb90a825fd7c448da1dec00b3d32ac_he_2024-12-16_11:16:39_healthy_uuu2_notOnMed_unknown\n",
       "    │   ├── hc_c4ff40c66deb90a825fd7c448da1dec00b3d32ac_he_2024-12-16_11:17:09_healthy_1210_notOnMed_unknown\n",
       "    │   ├── hc_c4ff40c66deb90a825fd7c448da1dec00b3d32ac_he_2024-12-16_11:17:26_healthy_pataka_notOnMed_unknown\n",
       "    │   ├── hc_c4ff40c66deb90a825fd7c448da1dec00b3d32ac_he_2024-12-16_11:17:40_healthy_dana_notOnMed_unknown\n",
       "    │   ├── hc_c4ff40c66deb90a825fd7c448da1dec00b3d32ac_he_2024-12-16_11:17:55_healthy_bama_notOnMed_unknown\n",
       "    │   ├── hc_c4ff40c66deb90a825fd7c448da1dec00b3d32ac_he_2024-12-16_11:18:12_healthy_papa_notOnMed_unknown\n",
       "    │   ├── hc_c4ff40c66deb90a825fd7c448da1dec00b3d32ac_he_2024-12-16_11:18:25_healthy_kala_notOnMed_unknown\n",
       "    │   ├── hc_c4ff40c66deb90a825fd7c448da1dec00b3d32ac_he_2024-12-16_11:18:41_healthy_sen1_notOnMed_unknown\n",
       "    │   ├── hc_c4ff40c66deb90a825fd7c448da1dec00b3d32ac_he_2024-12-16_11:18:54_healthy_sen2_notOnMed_unknown\n",
       "    │   ├── hc_c4ff40c66deb90a825fd7c448da1dec00b3d32ac_he_2024-12-16_11:19:07_healthy_sen3_notOnMed_unknown\n",
       "    │   ├── hc_c4ff40c66deb90a825fd7c448da1dec00b3d32ac_he_2024-12-16_11:19:20_healthy_sen4_notOnMed_unknown\n",
       "    │   ├── hc_c4ff40c66deb90a825fd7c448da1dec00b3d32ac_he_2024-12-16_11:19:36_healthy_glissandoup_notOnMed_unknown\n",
       "    │   ├── hc_c4ff40c66deb90a825fd7c448da1dec00b3d32ac_he_2024-12-16_11:19:50_healthy_glissandodn_notOnMed_unknown\n",
       "    │   ├── hc_c4ff40c66deb90a825fd7c448da1dec00b3d32ac_he_2024-12-16_11:20:24_healthy_reading1_notOnMed_unknown\n",
       "    │   ├── hc_c4ff40c66deb90a825fd7c448da1dec00b3d32ac_he_2024-12-16_11:21:00_healthy_reading2_notOnMed_unknown\n",
       "    │   ├── hc_c4ff40c66deb90a825fd7c448da1dec00b3d32ac_he_2024-12-16_11:21:44_healthy_question_notOnMed_unknown\n",
       "    │   └── hc_c4ff40c66deb90a825fd7c448da1dec00b3d32ac_he_2024-12-16_11:22:28_healthy_feedback_notOnMed_unknown\n",
       "    ├── efd0d4a5-e44d-4caf-a0b2-71a0ae8f27d5\n",
       "    │   ├── hc_c4ff40c66deb90a825fd7c448da1dec00b3d32ac_he_2024-12-16_10:53:41_healthy_mpt1_notOnMed_unknown\n",
       "    │   ├── hc_c4ff40c66deb90a825fd7c448da1dec00b3d32ac_he_2024-12-16_10:53:56_healthy_mpt2_notOnMed_unknown\n",
       "    │   ├── hc_c4ff40c66deb90a825fd7c448da1dec00b3d32ac_he_2024-12-16_10:54:14_healthy_mpt3_notOnMed_unknown\n",
       "    │   ├── hc_c4ff40c66deb90a825fd7c448da1dec00b3d32ac_he_2024-12-16_10:54:32_healthy_iii1_notOnMed_unknown\n",
       "    │   ├── hc_c4ff40c66deb90a825fd7c448da1dec00b3d32ac_he_2024-12-16_10:54:41_healthy_iii2_notOnMed_unknown\n",
       "    │   ├── hc_c4ff40c66deb90a825fd7c448da1dec00b3d32ac_he_2024-12-16_10:54:50_healthy_uuu1_notOnMed_unknown\n",
       "    │   ├── hc_c4ff40c66deb90a825fd7c448da1dec00b3d32ac_he_2024-12-16_10:54:57_healthy_uuu2_notOnMed_unknown\n",
       "    │   ├── hc_c4ff40c66deb90a825fd7c448da1dec00b3d32ac_he_2024-12-16_10:55:19_healthy_1210_notOnMed_unknown\n",
       "    │   ├── hc_c4ff40c66deb90a825fd7c448da1dec00b3d32ac_he_2024-12-16_10:55:48_healthy_pataka_notOnMed_unknown\n",
       "    │   ├── hc_c4ff40c66deb90a825fd7c448da1dec00b3d32ac_he_2024-12-16_10:56:09_healthy_dana_notOnMed_unknown\n",
       "    │   ├── hc_c4ff40c66deb90a825fd7c448da1dec00b3d32ac_he_2024-12-16_10:56:28_healthy_bama_notOnMed_unknown\n",
       "    │   ├── hc_c4ff40c66deb90a825fd7c448da1dec00b3d32ac_he_2024-12-16_10:56:45_healthy_papa_notOnMed_unknown\n",
       "    │   ├── hc_c4ff40c66deb90a825fd7c448da1dec00b3d32ac_he_2024-12-16_10:57:16_healthy_kala_notOnMed_unknown\n",
       "    │   ├── hc_c4ff40c66deb90a825fd7c448da1dec00b3d32ac_he_2024-12-16_10:57:27_healthy_sen1_notOnMed_unknown\n",
       "    │   ├── hc_c4ff40c66deb90a825fd7c448da1dec00b3d32ac_he_2024-12-16_10:57:39_healthy_sen2_notOnMed_unknown\n",
       "    │   ├── hc_c4ff40c66deb90a825fd7c448da1dec00b3d32ac_he_2024-12-16_10:57:50_healthy_sen3_notOnMed_unknown\n",
       "    │   ├── hc_c4ff40c66deb90a825fd7c448da1dec00b3d32ac_he_2024-12-16_10:58:01_healthy_sen4_notOnMed_unknown\n",
       "    │   └── hc_c4ff40c66deb90a825fd7c448da1dec00b3d32ac_he_2024-12-16_10:58:24_healthy_glissandoup_notOnMed_unknown\n",
       "    ├── user_register_2024-12-16_10:53:00.csv\n",
       "    ├── user_register_2024-12-16_11:14:53.csv\n",
       "    └── user_register_2024-12-16_11:23:11.csv\n"
      ]
     },
     "metadata": {},
     "output_type": "display_data"
    }
   ],
   "source": [
    "from src.query import visualize_folder_structure, visualize_folder_structure_from_bucket\n",
    "from src.utils import hash_phone_number as hp\n",
    "\n",
    "user = \"hc_\"+ hp(\"+9720547833812\")\n",
    "visualize_folder_structure_from_bucket(user)"
   ]
  },
  {
   "cell_type": "markdown",
   "metadata": {},
   "source": [
    "### UPDRS"
   ]
  },
  {
   "cell_type": "code",
   "execution_count": 3,
   "metadata": {},
   "outputs": [
    {
     "data": {
      "text/html": [
       "<div>\n",
       "<style scoped>\n",
       "    .dataframe tbody tr th:only-of-type {\n",
       "        vertical-align: middle;\n",
       "    }\n",
       "\n",
       "    .dataframe tbody tr th {\n",
       "        vertical-align: top;\n",
       "    }\n",
       "\n",
       "    .dataframe thead th {\n",
       "        text-align: right;\n",
       "    }\n",
       "</style>\n",
       "<table border=\"1\" class=\"dataframe\">\n",
       "  <thead>\n",
       "    <tr style=\"text-align: right;\">\n",
       "      <th></th>\n",
       "      <th>file_key</th>\n",
       "      <th>username</th>\n",
       "      <th>entity</th>\n",
       "      <th>session</th>\n",
       "      <th>sampler_username</th>\n",
       "      <th>pattern</th>\n",
       "      <th>exercise</th>\n",
       "      <th>timing</th>\n",
       "      <th>onmed</th>\n",
       "      <th>onoff</th>\n",
       "      <th>language</th>\n",
       "      <th>date</th>\n",
       "      <th>time</th>\n",
       "      <th>datetime</th>\n",
       "      <th>filesize</th>\n",
       "    </tr>\n",
       "  </thead>\n",
       "  <tbody>\n",
       "  </tbody>\n",
       "</table>\n",
       "</div>"
      ],
      "text/plain": [
       "Empty DataFrame\n",
       "Columns: [file_key, username, entity, session, sampler_username, pattern, exercise, timing, onmed, onoff, language, date, time, datetime, filesize]\n",
       "Index: []"
      ]
     },
     "execution_count": 3,
     "metadata": {},
     "output_type": "execute_result"
    }
   ],
   "source": [
    "import pandas as pd\n",
    "from src.settings import Settings\n",
    "\n",
    "df = pd.read_csv(Settings.ALL_FILES, dtype=str)\n",
    "\n",
    "df[df.exercise=='updrs']\n"
   ]
  },
  {
   "cell_type": "code",
   "execution_count": null,
   "metadata": {},
   "outputs": [],
   "source": [
    "import numpy as np\n",
    "import pandas as pd\n",
    "from src.settings import Settings\n",
    "\n",
    "df = pd.read_csv(Settings.ALL_FILES, dtype=str)\n",
    "sessions_list = df['session'].dropna().unique().tolist()\n",
    "session_df = pd.DataFrame(columns=['date', 'username', 'entity', 'session', 'start', 'end', 'duration',\\\n",
    "                                            'sampler', 'qnnrs', 'recordings', 'caregiver_username', 'caregiver_session',\\\n",
    "                                                  'caregiver_recordings', 'caregiver_phone'])\n",
    "session = '000b6101-5ac6-4fcb-8ed3-f3d42b228851'\n",
    "single_session = df[df.session==session]\n",
    "single_session = single_session.sort_values(by='datetime', ascending=True)\n",
    "isinstance(single_session['sampler_username'].tolist()[0], str)\n",
    "\n",
    "single_session"
   ]
  },
  {
   "cell_type": "markdown",
   "metadata": {},
   "source": [
    "### Look for phone numbers in Twilio"
   ]
  },
  {
   "cell_type": "code",
   "execution_count": 2,
   "metadata": {},
   "outputs": [],
   "source": [
    "from src.settings import Settings\n",
    "from src.utils import hash_phone_number as hh\n",
    "import pandas as pd\n",
    "import numpy as np\n",
    "\n",
    "\n",
    "path = '/home/alon/Downloads/sms-log-AC4aaf8fd3c64708b6840e48f9cbdcb277_2024-08-01.csv'\n",
    "twilio = pd.read_csv(path, dtype=str)\n",
    "\n",
    "def makenums(cell: str):\n",
    "    if cell.startswith(\"whatsapp\"):\n",
    "        return \"+9720\" + cell[13:]\n",
    "    return \"+9720\" + cell[4:]\n",
    "\n",
    "twilio['user_phone'] = twilio['To'].astype(str).apply(makenums)\n",
    "twilio['username'] = \"hc_\" + twilio['user_phone'].apply(hh)\n",
    "\n",
    "twilio = twilio[['user_phone', 'username']].drop_duplicates(ignore_index=True)\n",
    "\n",
    "'''\n",
    "Now look for HC usernames that have no \"user_phone\"\n",
    "'''\n",
    "\n",
    "sessions = pd.read_csv(Settings.SESSIONS, dtype=str)\n",
    "# sessions.loc[sessions.entity=='HC', 'user_phone'].unique()\n",
    "for ii,row in sessions.iterrows():\n",
    "    if (row.entity=='HC') & (pd.isna(row.user_phone)):\n",
    "        if row.username in twilio['username'].tolist():\n",
    "            print(f\"A match found: {twilio.loc[twilio.username==row.username,'user_phone'].item()}. {row.username}\")\n",
    "            # session.loc[ii,'user_phone'] = "
   ]
  },
  {
   "cell_type": "markdown",
   "metadata": {},
   "source": [
    "### Compare Yahav with my database"
   ]
  },
  {
   "cell_type": "code",
   "execution_count": 16,
   "metadata": {},
   "outputs": [
    {
     "name": "stdout",
     "output_type": "stream",
     "text": [
      "Unknown PD phone numbers: []\n",
      "Unknown HC phone numbers: ['+9720505232332', '+9720515230118', '+9720509622511', '+9720523661924']\n",
      "False report PD phone numbers: []\n",
      "False report HC phone numbers: ['+9720999999999']\n"
     ]
    }
   ],
   "source": [
    "from src.settings import Settings\n",
    "import pandas as pd\n",
    "from typing import List\n",
    "\n",
    "samplers = pd.read_csv(Settings.SAMPLERS_CSV, dtype=str, index_col=0)\n",
    "pika = samplers.loc[samplers['group']=='pika', 'sampler_username']\n",
    "\n",
    "db = pd.read_csv(Settings.SESSIONS, dtype=str)\n",
    "yahav = pd.read_csv('resources/yahav/yahav0806.csv', dtype=str)\n",
    "\n",
    "db_PD = db.loc[(db['entity']=='PD') & (db['sampler_username'].isin(pika)), 'user_phone'].str.replace(' ','').dropna().unique().tolist()\n",
    "db_HC = db.loc[(db['entity']=='HC') & (db['sampler_username'].isin(pika)), 'user_phone'].str.replace(' ','').dropna().unique().tolist()\n",
    "\n",
    "yahav_PD = yahav['patient'].dropna().unique().tolist()\n",
    "yahav_HC = yahav['healthy'].dropna().unique().tolist()\n",
    "\n",
    "def clean_list(L: List[str]):\n",
    "    newL = []\n",
    "    for l in L:\n",
    "        if len(l)<8:\n",
    "            continue\n",
    "        if l.startswith('0'):\n",
    "            newL.append(f\"+972{l.replace('-','').replace(' ','')}\")\n",
    "        else:\n",
    "            newL.append(f\"+9720{l.replace('-','').replace(' ','')}\")\n",
    "    return newL\n",
    "\n",
    "yahav_PD = clean_list(yahav_PD)\n",
    "yahav_HC = clean_list(yahav_HC)\n",
    "\n",
    "unknown_phones_PD = [x for x in db_PD if x not in yahav_PD]\n",
    "unknown_phones_HC = [x for x in db_HC if x not in yahav_HC]\n",
    "false_report_PD = [x for x in yahav_PD if x not in db_PD]\n",
    "false_report_HC = [x for x in yahav_HC if x not in db_HC]\n",
    "print(f\"Unknown PD phone numbers: {unknown_phones_PD}\")\n",
    "print(f\"Unknown HC phone numbers: {unknown_phones_HC}\")\n",
    "print(f\"False report PD phone numbers: {false_report_PD}\")\n",
    "print(f\"False report HC phone numbers: {false_report_HC}\")"
   ]
  },
  {
   "cell_type": "markdown",
   "metadata": {},
   "source": [
    "### y-net"
   ]
  },
  {
   "cell_type": "code",
   "execution_count": null,
   "metadata": {},
   "outputs": [],
   "source": [
    "import pandas as pd\n",
    "from src.settings import Settings\n",
    "from src.send import send_recording_notification_ynet\n",
    "\n",
    "\n",
    "df = pd.read_csv(Settings.SEND_PASSWORDS, dtype=str)\n",
    "for ii,row in df.iterrows():\n",
    "    if row['SMS']=='1':\n",
    "        send_recording_notification_ynet(destination_phone_number=row['user_phone'])\n",
    "\n",
    "send_recording_notification_ynet(destination_phone_number='+9720542050599')\n",
    "send_recording_notification_ynet(destination_phone_number='+9720549776075')\n",
    "send_recording_notification_ynet(destination_phone_number='+9720532752715')\n"
   ]
  },
  {
   "cell_type": "markdown",
   "metadata": {},
   "source": [
    "# Change png color"
   ]
  },
  {
   "cell_type": "code",
   "execution_count": 5,
   "metadata": {},
   "outputs": [
    {
     "data": {
      "text/plain": [
       "'c:\\\\Users\\\\97254\\\\Downloads\\\\brain1.png'"
      ]
     },
     "execution_count": 5,
     "metadata": {},
     "output_type": "execute_result"
    }
   ],
   "source": [
    "from PIL import Image\n",
    "\n",
    "# Load the image\n",
    "image_path = r'c:\\Users\\97254\\Downloads\\brain.png'\n",
    "image = Image.open(image_path).convert('RGBA')\n",
    "\n",
    "# Create a new image with the desired color for black areas\n",
    "def replace_black(image, new_color):\n",
    "    data = image.getdata()\n",
    "    new_data = []\n",
    "    for item in data:\n",
    "        # If the pixel is black (R=0, G=0, B=0, A not 0)\n",
    "        if item[0] == 0 and item[1] == 0 and item[2] == 0 and item[3] != 0:\n",
    "            new_data.append((*new_color, item[3]))  # Replace with new color, keep alpha\n",
    "        else:\n",
    "            new_data.append(item)  # Keep original pixel\n",
    "    image.putdata(new_data)\n",
    "    return image\n",
    "\n",
    "# Replace black with a new color (e.g., blue: (93, 99, 225))\n",
    "new_color = (93, 99, 225)  # Replace with your desired RGB color\n",
    "new_image = replace_black(image, new_color)\n",
    "\n",
    "# Save the new image\n",
    "new_image_path = r'c:\\Users\\97254\\Downloads\\brain1.png'\n",
    "new_image.save(new_image_path)\n",
    "\n",
    "new_image_path\n"
   ]
  },
  {
   "cell_type": "markdown",
   "metadata": {},
   "source": [
    "# QR code to a link"
   ]
  },
  {
   "cell_type": "code",
   "execution_count": 2,
   "metadata": {},
   "outputs": [
    {
     "name": "stdout",
     "output_type": "stream",
     "text": [
      "QR Code saved to join_the_research.png\n"
     ]
    }
   ],
   "source": [
    "import qrcode\n",
    "\n",
    "\n",
    "def generate_qr_code(url, file_path=\"qrcode.png\"):\n",
    "    \"\"\"\n",
    "    Generates a QR code for the given URL and saves it to a file.\n",
    "    \n",
    "    Args:\n",
    "        url (str): The URL to encode in the QR code.\n",
    "        file_path (str): The path to save the QR code image. Default is 'qrcode.png'.\n",
    "    \"\"\"\n",
    "    # Create a QR Code object\n",
    "    qr = qrcode.QRCode(\n",
    "        version=1,  # controls the size of the QR Code\n",
    "        error_correction=qrcode.constants.ERROR_CORRECT_L,\n",
    "        box_size=10,  # size of each box in the QR code grid\n",
    "        border=4,  # thickness of the border (minimum is 4)\n",
    "    )\n",
    "    \n",
    "    # Add data to the QR Code\n",
    "    qr.add_data(url)\n",
    "    qr.make(fit=True)  # adjusts the size to fit the data\n",
    "    \n",
    "    # Create an image of the QR Code\n",
    "    img = qr.make_image(fill_color=\"black\", back_color=\"white\")\n",
    "    \n",
    "    # Save the image to a file\n",
    "    img.save(file_path)\n",
    "    print(f\"QR Code saved to {file_path}\")\n",
    "\n",
    "\n",
    "url_to_encode = \"https://forms.gle/CJEcrUZ86on1gVzz7\"\n",
    "output_file = \"join_the_research.png\"\n",
    "generate_qr_code(url_to_encode, output_file)\n"
   ]
  }
 ],
 "metadata": {
  "kernelspec": {
   "display_name": "Python 3",
   "language": "python",
   "name": "python3"
  },
  "language_info": {
   "codemirror_mode": {
    "name": "ipython",
    "version": 3
   },
   "file_extension": ".py",
   "mimetype": "text/x-python",
   "name": "python",
   "nbconvert_exporter": "python",
   "pygments_lexer": "ipython3",
   "version": "3.10.11"
  }
 },
 "nbformat": 4,
 "nbformat_minor": 2
}
