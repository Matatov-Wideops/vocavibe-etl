{
 "cells": [
  {
   "cell_type": "markdown",
   "metadata": {},
   "source": [
    "# Delete all Healthy users\n",
    "Healthy participants get a one-time access to the app, and are deleted at the end of the session.\n",
    "\n",
    "Once a week, it is best to ensure the deletion of all healthy users."
   ]
  },
  {
   "cell_type": "code",
   "execution_count": 3,
   "metadata": {},
   "outputs": [
    {
     "name": "stdout",
     "output_type": "stream",
     "text": [
      "Users fetched successfully\n",
      "['hc_6abb81d7c607f48e6271a37a1eb62f37638c31bc']\n"
     ]
    },
    {
     "name": "stderr",
     "output_type": "stream",
     "text": [
      "100%|██████████| 1/1 [00:01<00:00,  1.94s/it]"
     ]
    },
    {
     "name": "stdout",
     "output_type": "stream",
     "text": [
      "User hc_6abb81d7c607f48e6271a37a1eb62f37638c31bc deleted successfully\n"
     ]
    },
    {
     "name": "stderr",
     "output_type": "stream",
     "text": [
      "\n"
     ]
    }
   ],
   "source": [
    "from tqdm import tqdm\n",
    "\n",
    "from src.utils import delete_user\n",
    "from src.utils import get_all_users\n",
    "\n",
    "users = get_all_users()\n",
    "doNotdelete = []\n",
    "\n",
    "to_delete = [user for user in users if user.startswith(\"hc_\")]\n",
    "print(to_delete)\n",
    "\n",
    "for user in tqdm(to_delete):\n",
    "    if user in to_delete:\n",
    "        delete_user(user)\n"
   ]
  },
  {
   "cell_type": "markdown",
   "metadata": {},
   "source": [
    "## Backup S3 Bucket to External Disk\n",
    "\n",
    "1. List all devices to identify the external disk (Seagate):\n",
    "    ```bash\n",
    "    lsblk\n",
    "    ```\n",
    "    The external disk should appear as something like `sdb1`.\n",
    "\n",
    "2. Unmount the existing mount point (replace `xxxxxxx` with the actual mount point):\n",
    "    ```bash\n",
    "    sudo umount /media/alon/xxxxxxx\n",
    "    ```\n",
    "\n",
    "3. Re-mount the external disk to a known point:\n",
    "    ```bash\n",
    "    sudo mount /dev/sda1 /mnt/seagate\n",
    "    ```\n",
    "    Note that `sda` can also be sometimes `sdb`!\n",
    "\n",
    "4. Run the backup script:\n",
    "    ```bash\n",
    "    sudo -E ./backup.sh\n",
    "    ```"
   ]
  },
  {
   "cell_type": "markdown",
   "metadata": {},
   "source": [
    "# Report to Yahav"
   ]
  },
  {
   "cell_type": "code",
   "execution_count": null,
   "metadata": {},
   "outputs": [],
   "source": [
    "from src.utils import report_to_yahav, color_yahav_report\n",
    "\n",
    "report_to_yahav()\n",
    "color_yahav_report()"
   ]
  }
 ],
 "metadata": {
  "kernelspec": {
   "display_name": "Python 3",
   "language": "python",
   "name": "python3"
  },
  "language_info": {
   "codemirror_mode": {
    "name": "ipython",
    "version": 3
   },
   "file_extension": ".py",
   "mimetype": "text/x-python",
   "name": "python",
   "nbconvert_exporter": "python",
   "pygments_lexer": "ipython3",
   "version": "3.10.12"
  }
 },
 "nbformat": 4,
 "nbformat_minor": 2
}
