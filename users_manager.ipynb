{
 "cells": [
  {
   "cell_type": "markdown",
   "metadata": {},
   "source": [
    "### Open sampler"
   ]
  },
  {
   "cell_type": "code",
   "execution_count": 1,
   "metadata": {},
   "outputs": [
    {
     "name": "stdout",
     "output_type": "stream",
     "text": [
      "iIocXGjG\n",
      "<Response [200]>\n",
      "201 {'username': 's_edenfatachov'}\n"
     ]
    }
   ],
   "source": [
    "from src.utils import open_sampler, generate_password\n",
    "\n",
    "password = generate_password(8)\n",
    "print(password)\n",
    "\n",
    "open_sampler(username='edenfatachov',\n",
    "            password=password,\n",
    "            phone='+9720522808159'\n",
    ")\n"
   ]
  },
  {
   "cell_type": "markdown",
   "metadata": {},
   "source": [
    "### Open user"
   ]
  },
  {
   "cell_type": "code",
   "execution_count": 1,
   "metadata": {},
   "outputs": [
    {
     "name": "stdout",
     "output_type": "stream",
     "text": [
      "201 {'username': '9352f14b777f10671e0920773285186d45e5ea1a'}\n"
     ]
    }
   ],
   "source": [
    "from src.utils import generate_digits_password, open_patient, hash_phone_number\n",
    "from src.settings import Settings\n",
    "import pandas as pd\n",
    "\n",
    "open_patient(phone=\"+330612444491\",\n",
    "             password=generate_digits_password(),\n",
    "             birth_date=\"1965-12-12\",\n",
    "             gender='female',\n",
    "             mother_tongue='hebrew',\n",
    "             year_of_diagnosis=2021,\n",
    "             smoking_routine='past_smoker',\n",
    "             genetic=\"NO\",\n",
    "             language='he',\n",
    "             sampler_phone=\"+9720549776075\",\n",
    "             demo=False,\n",
    ")\n",
    "\n"
   ]
  },
  {
   "cell_type": "markdown",
   "metadata": {},
   "source": [
    "### Healthy\n",
    "* Read the csv of the new users.\n",
    "* Compare with logs: if there are new HC users, append them to the csv; use all the columns in the csv.\n",
    "* Add new columns: \n",
    "    * opened: datetime\n",
    "    * recorded: bool\n",
    "    * reminder1: datetime\n",
    "    * reminder2: datetime\n",
    "    * reminder3: datetime\n",
    "    * deleted: datetime\n",
    "* Open newly registered participants (with opened=False)\n",
    "* List all active HC users:\n",
    "    * If a user was opened but no longer active: recorded=True\n",
    "    * else, look for reminders- \n",
    "        * if (1) is empty and it has been a week since registration, send a reminder and doc timestamp.\n",
    "        * else, compare with last reminder.\n",
    "        * else (more than a week since reminder 3): delete user and doc timestamp.\n",
    "* For regular users do not engage. "
   ]
  },
  {
   "cell_type": "code",
   "execution_count": null,
   "metadata": {},
   "outputs": [
    {
     "name": "stdout",
     "output_type": "stream",
     "text": [
      "\n",
      "Listing files for user: hc_f66472f757784554d6c4e464ea8bc7723350df15 from AWS bucket...\n"
     ]
    },
    {
     "name": "stderr",
     "output_type": "stream",
     "text": [
      "100%|██████████| 30/30 [00:00<?, ?it/s]\n"
     ]
    },
    {
     "name": "stdout",
     "output_type": "stream",
     "text": [
      "Recording Notification Message sent to 0549776075 with SID: MMa55822c52b83e1c0255a8d0b5bbd5115\n",
      "\n",
      "Listing files for user: hc_e15312a3dc1ea42dc9a937d0085e1e8a411eb882 from AWS bucket...\n"
     ]
    },
    {
     "name": "stderr",
     "output_type": "stream",
     "text": [
      "100%|██████████| 1/1 [00:00<?, ?it/s]\n"
     ]
    },
    {
     "name": "stdout",
     "output_type": "stream",
     "text": [
      "Recording Notification Message sent to 0544224936 with SID: MMf694d8f37be48d08ce65d77e5136378e\n",
      "\n",
      "Listing files for user: hc_de3592fef0be06d8652038cc2446cbec05caf63c from AWS bucket...\n"
     ]
    },
    {
     "name": "stderr",
     "output_type": "stream",
     "text": [
      "100%|██████████| 1/1 [00:00<?, ?it/s]\n"
     ]
    },
    {
     "name": "stdout",
     "output_type": "stream",
     "text": [
      "Recording Notification Message sent to 0507977444 with SID: MMc18e72266d30ea5b811cce98c8018eff\n",
      "\n",
      "Listing files for user: hc_1295c6fe9387bf59c8863bea6bb903f528e5bb92 from AWS bucket...\n"
     ]
    },
    {
     "name": "stderr",
     "output_type": "stream",
     "text": [
      "100%|██████████| 1/1 [00:00<?, ?it/s]\n"
     ]
    },
    {
     "name": "stdout",
     "output_type": "stream",
     "text": [
      "Recording Notification Message sent to 0528113108 with SID: MM16ad303f19300446f79bb4b3cbf0ee5d\n",
      "\n",
      "Listing files for user: hc_dbd73f62df95f9acd95e62010d2b2e50c5cc8b70 from AWS bucket...\n"
     ]
    },
    {
     "name": "stderr",
     "output_type": "stream",
     "text": [
      "100%|██████████| 1/1 [00:00<00:00, 992.97it/s]\n"
     ]
    },
    {
     "name": "stdout",
     "output_type": "stream",
     "text": [
      "Recording Notification Message sent to 0542125777 with SID: MM9f0d5526135e4d18857fd8e73dbd9fe9\n",
      "\n",
      "Listing files for user: hc_711ee0620219e0756a624b3cd9956486aa2b3bae from AWS bucket...\n"
     ]
    },
    {
     "name": "stderr",
     "output_type": "stream",
     "text": [
      "100%|██████████| 1/1 [00:00<?, ?it/s]\n"
     ]
    },
    {
     "name": "stdout",
     "output_type": "stream",
     "text": [
      "Recording Notification Message sent to 0526696123 with SID: MM35dd97ddb1cbf897493a3264ddd816d7\n",
      "\n",
      "Listing files for user: hc_aab3d58f40d212c4020790594aed9f08020e5e41 from AWS bucket...\n"
     ]
    },
    {
     "name": "stderr",
     "output_type": "stream",
     "text": [
      "100%|██████████| 1/1 [00:00<?, ?it/s]\n"
     ]
    },
    {
     "name": "stdout",
     "output_type": "stream",
     "text": [
      "Recording Notification Message sent to 0547350179 with SID: MM32b80438d1b5d5b708bf6000c08b39eb\n",
      "\n",
      "Listing files for user: hc_229145a072f0c2c845985cb2f68251e60922afd6 from AWS bucket...\n"
     ]
    },
    {
     "name": "stderr",
     "output_type": "stream",
     "text": [
      "100%|██████████| 1/1 [00:00<?, ?it/s]\n"
     ]
    },
    {
     "name": "stdout",
     "output_type": "stream",
     "text": [
      "\n",
      "Listing files for user: hc_2b732dafe67138a9aad97b55e110b5bb80dec226 from AWS bucket...\n"
     ]
    },
    {
     "name": "stderr",
     "output_type": "stream",
     "text": [
      "100%|██████████| 1/1 [00:00<?, ?it/s]\n"
     ]
    },
    {
     "name": "stdout",
     "output_type": "stream",
     "text": [
      "\n",
      "Listing files for user: hc_a33eccaa7bd5c89c5ff6c1493ffa965ab3e79573 from AWS bucket...\n"
     ]
    },
    {
     "name": "stderr",
     "output_type": "stream",
     "text": [
      "100%|██████████| 1/1 [00:00<?, ?it/s]\n"
     ]
    },
    {
     "name": "stdout",
     "output_type": "stream",
     "text": [
      "<Response [409]>\n"
     ]
    }
   ],
   "source": [
    "from src.query import list_bucket_for_user\n",
    "from src.utils import hash_phone_number as hp, open_healthy, delete_user\n",
    "from src.patterns import Patterns, extract_from_filename\n",
    "from src.settings import Settings\n",
    "from src.send import send_hc_weekly_reminder\n",
    "from datetime import datetime, date\n",
    "import re\n",
    "import pandas as pd\n",
    "\n",
    "\n",
    "daysSinceLastSMS = 6\n",
    "\n",
    "def check_when_hc_recorded(phone: str) -> str:\n",
    "    \"\"\"\n",
    "    Check when a user with a hashed phone number has recorded the latest \"feedback\" exercise.\n",
    "    If the \"feedback\" file's date is the latest among all files, return its full timestamp. Otherwise, return None.\n",
    "    \"\"\"\n",
    "    # Generate the hashed username\n",
    "    if len(phone)<40:\n",
    "        username = f\"hc_{hp(f'+972{phone}')}\"\n",
    "    else: \n",
    "        username = phone\n",
    "    \n",
    "    # List all files in the bucket for the user\n",
    "    file_keys = list_bucket_for_user(username)\n",
    "    if not file_keys:\n",
    "        return None\n",
    "    # Initialize variables to track the latest feedback and absolute latest date\n",
    "    latest_feedback_timestamp = None\n",
    "    latest_feedback_date = None\n",
    "    absolute_latest_date = None\n",
    "    \n",
    "    for file_key in file_keys:\n",
    "        # Extract the filename from the file key\n",
    "        filename = file_key.split(\"/\")[-1]\n",
    "\n",
    "        # Extract the datetime from the filename\n",
    "        file_timestamp_str = extract_from_filename(filename, 'datetime')\n",
    "        if not file_timestamp_str:\n",
    "            continue  # Skip files that do not match the expected timestamp pattern\n",
    "        \n",
    "        file_datetime = datetime.strptime(file_timestamp_str, Settings.DATETIME)\n",
    "        file_date = file_datetime.date()  # Extract the date for comparison\n",
    "\n",
    "        # Update the absolute latest date\n",
    "        if absolute_latest_date is None or file_date > absolute_latest_date:\n",
    "            absolute_latest_date = file_date\n",
    "\n",
    "        # Check if the file matches the RECORDING1 pattern\n",
    "        if re.match(Patterns.RECORDING, filename):\n",
    "            # Extract the exercise type\n",
    "            exercise = extract_from_filename(filename, 'exercise')\n",
    "            if exercise == \"feedback\":\n",
    "                # Update the latest feedback date and timestamp\n",
    "                if latest_feedback_date is None or file_date > latest_feedback_date:\n",
    "                    latest_feedback_date = file_date\n",
    "                    latest_feedback_timestamp = file_datetime\n",
    "\n",
    "    # Return the feedback timestamp only if its date matches the absolute latest date\n",
    "    if latest_feedback_date == absolute_latest_date:\n",
    "        return latest_feedback_timestamp.strftime(Settings.FORM_DATETIME)\n",
    "    return None\n",
    "\n",
    "\n",
    "def user_dict_from_row(row):\n",
    "    user_dict = {}\n",
    "    user_dict['healthy_name'] = row['שם מלא']\n",
    "    user_dict['send_to'] = f\"+972{row['טלפון']}\"\n",
    "    \n",
    "    dob = f\"{row['שנת לידה']}-01-01\"\n",
    "    date_object = date.fromisoformat(dob)\n",
    "    user_dict['birth_date'] = date_object.isoformat()\n",
    "\n",
    "    user_dict['gender'] = 'male' if row['מגדר']=='גבר' else 'female'\n",
    "    user_dict['smoking_routine'] = 'smoker' if row['שאלות כלליות [מעשן/ת?]']=='כן' else 'non_smoker'\n",
    "    user_dict['mother_tongue'] = row['שפת אם'][:-3]\n",
    "    user_dict['sleep_talk'] = True if row['שאלות כלליות [האם את/ה זז/ה הרבה מתוך שינה?]']=='כן' else False\n",
    "    user_dict['constipation'] = True if row['שאלות כלליות [האם את/ה סובל/ת מעצירות?]']=='כן' else False\n",
    "    user_dict['falling'] = True if row['שאלות כלליות [האם נפלת יותר מ 3 פעמים במהלך השנה האחרונה?]']=='כן' else False\n",
    "    user_dict['smell'] = True if row['שאלות כלליות [האם יש ירידה בחוש הריח?]']=='כן' else False\n",
    "    genetic = row['האם יש לך נטייה גנטית לפרקינסון?']\n",
    "    if (genetic=='GBA') or (genetic=='LRRK2'):\n",
    "        user_dict['genetic']=genetic\n",
    "    elif genetic=='לא ידוע לי':\n",
    "        user_dict['genetic']='NO'\n",
    "    else:\n",
    "        user_dict['genetic']='YES'\n",
    "    return user_dict\n",
    "\n",
    "\n",
    "\n",
    "users_df = pd.read_csv(Settings.FORM_CSV, dtype=str)\n",
    "users_log = pd.read_csv(Settings.OPEN_HEALTHY, dtype=str)\n",
    "\n",
    "# log and open new HC users\n",
    "# registered_users = users_df[users_df['השתתפות בתור']=='בריא/ה ללא אבחנה של מחלה נוירודגנרטיבית כלשהי']['טלפון'].tolist()\n",
    "logged_users = users_log['טלפון'].tolist()\n",
    "new_users = users_df[\n",
    "    (users_df['השתתפות בתור'] == 'בריא/ה ללא אבחנה של מחלה נוירודגנרטיבית כלשהי') &\n",
    "    (~users_df['טלפון'].isin(logged_users))\n",
    "].copy()\n",
    "\n",
    "for col in users_log.columns:\n",
    "    if col not in new_users.columns:\n",
    "        new_users[col] = None  # Add missing columns with None values\n",
    "\n",
    "new_users = new_users[users_log.columns]\n",
    "updated_users_log = pd.concat([users_log, new_users], ignore_index=True)\n",
    "\n",
    "# Iterate over all logged users\n",
    "for idx, user in updated_users_log.iterrows():\n",
    "    if pd.isna(user['opened']) or user['opened'] == '':\n",
    "        # Open account for new user\n",
    "        user_dict = user_dict_from_row(user)\n",
    "        timestamp = datetime.now().strftime(Settings.FORM_DATETIME)\n",
    "        response = open_healthy(user_dict, sampler='+9720532752715')\n",
    "        if response.status_code == 201:\n",
    "            print(f\"User {user_dict['send_to']} opened successfully\")\n",
    "            updated_users_log.at[idx, 'opened'] = timestamp\n",
    "        else:\n",
    "           print(response)         \n",
    "        continue\n",
    "    else:\n",
    "        # Check if the user has recorded or deleted\n",
    "        if not pd.isna(user['recorded']) and user['recorded'] != '':\n",
    "            continue  # User has already recorded, move to the next\n",
    "        if not pd.isna(user['deleted']) and user['deleted'] != '':\n",
    "            continue  # User has been deleted, move to the next\n",
    "        \n",
    "        # Check recording status\n",
    "        recording_timestamp = check_when_hc_recorded(user['טלפון'])\n",
    "        if recording_timestamp:\n",
    "            updated_users_log.at[idx, 'recorded'] = recording_timestamp\n",
    "            continue\n",
    "        \n",
    "        # Handle reminders and deletion\n",
    "        opened_date = datetime.strptime(user['opened'], Settings.FORM_DATETIME)\n",
    "        today = datetime.now()\n",
    "        days_since_opened = (today - opened_date).days\n",
    "        \n",
    "        for reminder_col, prev_reminder_col in [('reminder1', 'opened'), ('reminder2', 'reminder1'), ('reminder3', 'reminder2')]:\n",
    "            if pd.isna(user[reminder_col]) or user[reminder_col] == '':\n",
    "                prev_date = datetime.strptime(user[prev_reminder_col], Settings.FORM_DATETIME)\n",
    "                if (today - prev_date).days >= daysSinceLastSMS:\n",
    "                    timestamp = datetime.now().strftime(Settings.FORM_DATETIME)\n",
    "                    send_hc_weekly_reminder(user['טלפון'])\n",
    "                    updated_users_log.at[idx, reminder_col] = timestamp\n",
    "                break  # Exit loop after sending a reminder\n",
    "        else:\n",
    "            last_reminder_date = datetime.strptime(user['reminder3'], Settings.FORM_DATETIME)\n",
    "            days_since_last_reminder = (today - last_reminder_date).days\n",
    "            print(f\"Deleting user {user['טלפון']} - Days since last reminder: {days_since_last_reminder}\")\n",
    "            delete_user(user)\n",
    "            timestamp = datetime.now().strftime(Settings.FORM_DATETIME)\n",
    "            updated_users_log.at[idx, 'deleted'] = timestamp\n",
    "\n",
    "updated_users_log.to_csv(Settings.OPEN_HEALTHY, index=False)\n"
   ]
  },
  {
   "cell_type": "markdown",
   "metadata": {},
   "source": [
    "### Get password"
   ]
  },
  {
   "cell_type": "code",
   "execution_count": 6,
   "metadata": {},
   "outputs": [
    {
     "name": "stdout",
     "output_type": "stream",
     "text": [
      "[{'username': '541b2077093320afcbd6e958482356d7f8b47be9', 'user_phone': '+9720544656771', 'password': '0862276266'}]\n"
     ]
    }
   ],
   "source": [
    "from src.utils import get_password\n",
    "\n",
    "# p = get_password('f0c327e841a9cd65f5f937058de58fc2bcf6bccb'); print(p)\n",
    "# p = get_password('9720548181082'); print(p)\n",
    "# p = get_password('0504547258'); print(p)\n",
    "\n",
    "p = get_password('9720544656771'); print(p)"
   ]
  },
  {
   "cell_type": "markdown",
   "metadata": {},
   "source": [
    "### Change password"
   ]
  },
  {
   "cell_type": "code",
   "execution_count": 1,
   "metadata": {},
   "outputs": [
    {
     "name": "stdout",
     "output_type": "stream",
     "text": [
      "[{'username': '37b8be5eab3168f2f82ab70b2562872fc5e35a76', 'user_phone': '+9720544674000', 'password': '&cdPquDQK-'}]\n",
      "User 37b8be5eab3168f2f82ab70b2562872fc5e35a76 deleted successfully\n",
      "<Response [200]>\n",
      "201 {'username': '37b8be5eab3168f2f82ab70b2562872fc5e35a76'}\n"
     ]
    },
    {
     "name": "stderr",
     "output_type": "stream",
     "text": [
      "Listing files chunks from AWS bucket: 33it [00:09,  3.33it/s]                      "
     ]
    },
    {
     "name": "stdout",
     "output_type": "stream",
     "text": [
      "Filekey 37b8be5eab3168f2f82ab70b2562872fc5e35a76\\user_register_2024-12-16_09:02:49.csv was added to Blacklist\n"
     ]
    },
    {
     "name": "stderr",
     "output_type": "stream",
     "text": [
      "\n"
     ]
    }
   ],
   "source": [
    "from src.utils import generate_digits_password, open_demo_patient, hash_phone_number, delete_user, get_password\n",
    "from src.process_bucket import list_bucket\n",
    "from src.patterns import Patterns, extract_from_filename\n",
    "from src.settings import Settings\n",
    "import re\n",
    "from datetime import datetime, date\n",
    "from typing import List\n",
    "import os\n",
    "from os.path import join\n",
    "import pandas as pd\n",
    "import csv\n",
    "\n",
    "user_phone = \"+9720544674000\"\n",
    "p = get_password(user_phone); print(p)\n",
    "\n",
    "delete_user(hash_phone_number(user_phone))\n",
    "pw = generate_digits_password()\n",
    "open_demo_patient(phone=user_phone, password=pw, sampler_phone='+9720532752715')\n",
    "files = list_bucket()\n",
    "\n",
    "def find_latest_registration_file(user_files: List[str], username: str):\n",
    "    latest_file = None\n",
    "    latest_datetime = None\n",
    "    for file in user_files:\n",
    "        if username not in file:\n",
    "            continue\n",
    "        else:\n",
    "            file = file.split(\"/\")[-1]\n",
    "        if re.search(Patterns.REGISTRATION, file):\n",
    "            file_datetime = extract_from_filename(file, 'datetime')\n",
    "            file_datetime = datetime.strptime(file_datetime, Settings.DATETIME)\n",
    "            if latest_datetime is None or file_datetime > latest_datetime:\n",
    "                latest_datetime = file_datetime\n",
    "                latest_file = file\n",
    "    filekey = join(username, latest_file)\n",
    "    return {'category': 'file', 'username': username, 'entry': filekey}\n",
    "\n",
    "filekey_dict = find_latest_registration_file(files, hash_phone_number(user_phone))\n",
    "print(f\"Filekey {filekey_dict['entry']} was added to Blacklist\")\n",
    "blacklist = pd.read_csv(Settings.BLACKLIST, dtype=str)\n",
    "blacklist = pd.concat([blacklist, pd.DataFrame([filekey_dict])], ignore_index=True)\n",
    "blacklist.to_csv(Settings.BLACKLIST, index=False)\n",
    "\n",
    "with open(Settings.CHANGED_PASSWORDS, 'a', newline='') as csvfile:\n",
    "    fieldnames = ['user_phone', 'username', 'old_password', 'password', 'date']\n",
    "    writer = csv.DictWriter(csvfile, fieldnames=fieldnames)\n",
    "    \n",
    "    # Write the header if the file is new\n",
    "    if not os.path.isfile(Settings.CHANGED_PASSWORDS):\n",
    "        writer.writeheader()\n",
    "    \n",
    "    # Append the new row\n",
    "    writer.writerow({\n",
    "        'user_phone': user_phone,\n",
    "        'username': hash_phone_number(user_phone),\n",
    "        'old_password': p[0]['password'],\n",
    "        'password': pw,\n",
    "        'date': date.today().isoformat(),\n",
    "    })\n"
   ]
  },
  {
   "cell_type": "markdown",
   "metadata": {},
   "source": [
    "### Send a reminder"
   ]
  },
  {
   "cell_type": "code",
   "execution_count": 8,
   "metadata": {},
   "outputs": [
    {
     "name": "stdout",
     "output_type": "stream",
     "text": [
      "Recording Notification Message sent to +9720546785867 with SID: MMe11c2fedf475d3007cd06622b0a6b8c6\n"
     ]
    }
   ],
   "source": [
    "import pandas as pd\n",
    "from src.settings import Settings\n",
    "from src.send import send_recording_notification\n",
    "from src.utils import get_password\n",
    "\n",
    "\n",
    "user_phone = '+9720546785867'\n",
    "\n",
    "send_recording_notification(destination_phone_number=user_phone,\n",
    "                            username=user_phone[4:],\n",
    "                            password=get_password(user_phone)[0]['password'])\n"
   ]
  },
  {
   "cell_type": "markdown",
   "metadata": {},
   "source": [
    "### Send request for details to healthy"
   ]
  },
  {
   "cell_type": "code",
   "execution_count": 2,
   "metadata": {},
   "outputs": [
    {
     "name": "stdout",
     "output_type": "stream",
     "text": [
      "Recording Notification Message sent to +9720549776075 with SID: MM32b5336ad8794a535c1829d4c5dd5eee\n"
     ]
    }
   ],
   "source": [
    "from src.send import send_request_for_details_to_healthy\n",
    "\n",
    "HC_phones = [\n",
    "    '+9720549776075',\n",
    "]\n",
    "\n",
    "for hc in HC_phones:\n",
    "    send_request_for_details_to_healthy(hc)"
   ]
  },
  {
   "cell_type": "markdown",
   "metadata": {},
   "source": [
    "### Open Healthy from csv"
   ]
  },
  {
   "cell_type": "code",
   "execution_count": 12,
   "metadata": {},
   "outputs": [
    {
     "name": "stdout",
     "output_type": "stream",
     "text": [
      "User was opened\n",
      "User was opened\n",
      "<Response [409]>\n"
     ]
    }
   ],
   "source": [
    "from src.settings import Settings\n",
    "from src.utils import open_healthy, user_dict_from_row, hash_phone_number\n",
    "import pandas as pd\n",
    "from datetime import date\n",
    "import time \n",
    "\n",
    "\n",
    "path = 'log/source/hc/הצטרפות בריאים - Form Responses 1.csv'\n",
    "\n",
    "df = pd.read_csv(path, dtype=str)\n",
    "openhc = pd.read_csv(Settings.OPENED_HC, dtype=str)\n",
    "opend_phones = openhc['user_phone'].tolist()\n",
    "\n",
    "for ii,row in df.iterrows():\n",
    "    user_dict = user_dict_from_row(row)\n",
    "    if user_dict['send_to'] not in opend_phones:\n",
    "        # print(f\"Phone number {user_dict['send_to']} is new\")\n",
    "        response = open_healthy(user_dict, sampler='+9720549776075')\n",
    "        # print(user_dict)\n",
    "        if response.status_code == 201:\n",
    "            opened_dict = {'user_phone': user_dict['send_to'], \n",
    "                            'username': f\"hc_{hash_phone_number(user_dict['send_to'])}\", \n",
    "                            'date': date.today().strftime(Settings.DATE_FORMAT)}\n",
    "            toappend = pd.DataFrame([opened_dict])\n",
    "            openhc = pd.concat([openhc, toappend])\n",
    "            print(f\"User {user_dict['send_to']} opened successfully\")\n",
    "        else:\n",
    "           print(response) \n",
    "    else:\n",
    "        print(\"User is already open\")\n",
    "    time.sleep(5)\n",
    "openhc.to_csv(Settings.OPENED_HC, index=False)\n"
   ]
  },
  {
   "cell_type": "code",
   "execution_count": 9,
   "metadata": {},
   "outputs": [
    {
     "data": {
      "text/html": [
       "<div>\n",
       "<style scoped>\n",
       "    .dataframe tbody tr th:only-of-type {\n",
       "        vertical-align: middle;\n",
       "    }\n",
       "\n",
       "    .dataframe tbody tr th {\n",
       "        vertical-align: top;\n",
       "    }\n",
       "\n",
       "    .dataframe thead th {\n",
       "        text-align: right;\n",
       "    }\n",
       "</style>\n",
       "<table border=\"1\" class=\"dataframe\">\n",
       "  <thead>\n",
       "    <tr style=\"text-align: right;\">\n",
       "      <th></th>\n",
       "      <th>user_phone</th>\n",
       "      <th>username</th>\n",
       "      <th>date</th>\n",
       "    </tr>\n",
       "  </thead>\n",
       "  <tbody>\n",
       "    <tr>\n",
       "      <th>0</th>\n",
       "      <td>+9720549776075</td>\n",
       "      <td>hc_f66472f757784554d6c4e464ea8bc7723350df15</td>\n",
       "      <td>2024-10-15</td>\n",
       "    </tr>\n",
       "  </tbody>\n",
       "</table>\n",
       "</div>"
      ],
      "text/plain": [
       "       user_phone                                     username        date\n",
       "0  +9720549776075  hc_f66472f757784554d6c4e464ea8bc7723350df15  2024-10-15"
      ]
     },
     "execution_count": 9,
     "metadata": {},
     "output_type": "execute_result"
    }
   ],
   "source": [
    "opened_dict = {'user_phone': user_dict['send_to'], \n",
    "                            'username': f\"hc_{hash(user_dict['send_to'])}\", \n",
    "                            'date': date.today().strftime(Settings.DATE_FORMAT)}\n",
    "toappend = pd.DataFrame([opened_dict])\n",
    "openhc = pd.concat([openhc, toappend])\n",
    "openhc"
   ]
  },
  {
   "cell_type": "code",
   "execution_count": 5,
   "metadata": {},
   "outputs": [
    {
     "name": "stdout",
     "output_type": "stream",
     "text": [
      "200 {'username': '33c222ca32238b76b58a937dfd6b82f87a61badf'}\n"
     ]
    }
   ],
   "source": [
    "from src.settings import Settings\n",
    "from src.utils import open_healthy, user_dict_from_row, hash_phone_number, get_user\n",
    "import pandas as pd\n",
    "from datetime import date\n",
    "\n",
    "\n",
    "username =  hash_phone_number('+9720544656371')\n",
    "get_user(username)"
   ]
  },
  {
   "cell_type": "markdown",
   "metadata": {},
   "source": [
    "### Yom Kipur"
   ]
  },
  {
   "cell_type": "code",
   "execution_count": null,
   "metadata": {},
   "outputs": [],
   "source": [
    "import pandas as pd\n",
    "from src.settings import Settings\n",
    "from src.send import yom_kipur\n",
    "\n",
    "\n",
    "df = pd.read_csv(Settings.SEND_PASSWORDS, dtype=str)\n",
    "for ii,row in df.iterrows():\n",
    "    if row['SMS']=='1':\n",
    "        yom_kipur(destination_phone_number=row['user_phone'])\n",
    "\n",
    "yom_kipur(destination_phone_number='+9720542050599')\n",
    "yom_kipur(destination_phone_number='+9720549776075')\n",
    "yom_kipur(destination_phone_number='+9720532752715')\n"
   ]
  },
  {
   "cell_type": "markdown",
   "metadata": {},
   "source": [
    "### Delete users"
   ]
  },
  {
   "cell_type": "code",
   "execution_count": 4,
   "metadata": {},
   "outputs": [
    {
     "name": "stdout",
     "output_type": "stream",
     "text": [
      "User hc_f66472f757784554d6c4e464ea8bc7723350df15 deleted successfully\n"
     ]
    }
   ],
   "source": [
    "from src.utils import delete_user\n",
    "from src.utils import hash_phone_number as hash\n",
    "from tqdm import tqdm\n",
    "\n",
    "duser = 'hc_' + hash(\"+9720549776075\")\n",
    "delete_user(duser)"
   ]
  },
  {
   "cell_type": "markdown",
   "metadata": {},
   "source": [
    "### Hash phone number"
   ]
  },
  {
   "cell_type": "code",
   "execution_count": 7,
   "metadata": {},
   "outputs": [
    {
     "name": "stdout",
     "output_type": "stream",
     "text": [
      "d7a8394b62fa97832bbe5a3249ba2c4d19cf9c83\n",
      "413ea12275b9cc5c0ae32541758aa10c9c8f2022\n",
      "0ee4b0a00dc60261543c0186130ca9d5b7971846\n",
      "45081dd3bf9009d73fe8dd37238198b013442651\n",
      "753d6faf042ac97bc3d1bd1e309fb002b2534cca\n"
     ]
    }
   ],
   "source": [
    "from src.utils import hash_phone_number\n",
    "phones = ['+9720523503473',\n",
    "'+9720525013968',\n",
    "'+9720528722548',\n",
    "'+9720528022830',\n",
    "'+9720544933416',]\n",
    "\n",
    "for p in phones:\n",
    "    hh = hash_phone_number(p)\n",
    "    print(hh)\n"
   ]
  },
  {
   "cell_type": "markdown",
   "metadata": {},
   "source": [
    "# Caregivers"
   ]
  },
  {
   "cell_type": "code",
   "execution_count": 2,
   "metadata": {},
   "outputs": [
    {
     "data": {
      "text/html": [
       "<div>\n",
       "<style scoped>\n",
       "    .dataframe tbody tr th:only-of-type {\n",
       "        vertical-align: middle;\n",
       "    }\n",
       "\n",
       "    .dataframe tbody tr th {\n",
       "        vertical-align: top;\n",
       "    }\n",
       "\n",
       "    .dataframe thead th {\n",
       "        text-align: right;\n",
       "    }\n",
       "</style>\n",
       "<table border=\"1\" class=\"dataframe\">\n",
       "  <thead>\n",
       "    <tr style=\"text-align: right;\">\n",
       "      <th></th>\n",
       "      <th>date</th>\n",
       "      <th>entity</th>\n",
       "      <th>username</th>\n",
       "      <th>session</th>\n",
       "      <th>number_of_session</th>\n",
       "      <th>start</th>\n",
       "      <th>end</th>\n",
       "      <th>duration</th>\n",
       "      <th>sampler_username</th>\n",
       "      <th>sampler_paradigm</th>\n",
       "      <th>user_paradigm</th>\n",
       "      <th>caregiver_username</th>\n",
       "      <th>caregiver_session</th>\n",
       "      <th>caregiver_paradigm</th>\n",
       "      <th>caregiver_phone</th>\n",
       "      <th>user_phone</th>\n",
       "      <th>password</th>\n",
       "    </tr>\n",
       "  </thead>\n",
       "  <tbody>\n",
       "    <tr>\n",
       "      <th>16</th>\n",
       "      <td>2024-07-11</td>\n",
       "      <td>HC</td>\n",
       "      <td>hc_48022c9a8fa56d68ca3ec8c28c98b541b0f3dc95</td>\n",
       "      <td>ae0f7ee1-0bb9-413f-826e-994dcc28f5fb</td>\n",
       "      <td>2</td>\n",
       "      <td>15:39:43</td>\n",
       "      <td>15:41:05</td>\n",
       "      <td>0:01:22</td>\n",
       "      <td>s_nitzaramon</td>\n",
       "      <td>NaN</td>\n",
       "      <td>[HHHHHHH~~~~~~~~~~~~~~~~]</td>\n",
       "      <td>NaN</td>\n",
       "      <td>NaN</td>\n",
       "      <td>NaN</td>\n",
       "      <td>NaN</td>\n",
       "      <td>9720523317731</td>\n",
       "      <td>8MMEm&amp;_lS6</td>\n",
       "    </tr>\n",
       "  </tbody>\n",
       "</table>\n",
       "</div>"
      ],
      "text/plain": [
       "         date entity                                     username  \\\n",
       "16 2024-07-11     HC  hc_48022c9a8fa56d68ca3ec8c28c98b541b0f3dc95   \n",
       "\n",
       "                                 session number_of_session     start  \\\n",
       "16  ae0f7ee1-0bb9-413f-826e-994dcc28f5fb                 2  15:39:43   \n",
       "\n",
       "         end duration sampler_username sampler_paradigm  \\\n",
       "16  15:41:05  0:01:22     s_nitzaramon              NaN   \n",
       "\n",
       "                user_paradigm caregiver_username caregiver_session  \\\n",
       "16  [HHHHHHH~~~~~~~~~~~~~~~~]                NaN               NaN   \n",
       "\n",
       "   caregiver_paradigm caregiver_phone     user_phone    password  \n",
       "16                NaN             NaN  9720523317731  8MMEm&_lS6  "
      ]
     },
     "execution_count": 2,
     "metadata": {},
     "output_type": "execute_result"
    }
   ],
   "source": [
    "import pandas as pd\n",
    "from src.settings import Settings\n",
    "from src.send import send_healthy_notification\n",
    "\n",
    "badH = pd.read_csv(Settings.SESSIONS, dtype=str)\n",
    "badH['date'] = pd.to_datetime(badH['date'])\n",
    "badH = badH[badH['date'] > pd.to_datetime('2024-06-01')]\n",
    "\n",
    "badH = badH[(badH.entity=='HC') & (badH.user_paradigm.str.contains(\"~\"))]\n",
    "badH = badH.drop_duplicates(subset=['username'])\n",
    "badH\n"
   ]
  }
 ],
 "metadata": {
  "kernelspec": {
   "display_name": "Python 3",
   "language": "python",
   "name": "python3"
  },
  "language_info": {
   "codemirror_mode": {
    "name": "ipython",
    "version": 3
   },
   "file_extension": ".py",
   "mimetype": "text/x-python",
   "name": "python",
   "nbconvert_exporter": "python",
   "pygments_lexer": "ipython3",
   "version": "3.10.11"
  }
 },
 "nbformat": 4,
 "nbformat_minor": 2
}
